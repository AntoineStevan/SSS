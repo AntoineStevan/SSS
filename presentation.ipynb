{
 "cells": [
  {
   "cell_type": "markdown",
   "id": "7aabfbc5",
   "metadata": {
    "slideshow": {
     "slide_type": "slide"
    }
   },
   "source": [
    "# Information Theory\n",
    "\n",
    "## Shamir's Secret Sharing\n",
    "\n",
    "###### Odile, Gaspard, Antoine"
   ]
  },
  {
   "cell_type": "markdown",
   "id": "872af7bc",
   "metadata": {
    "slideshow": {
     "slide_type": "slide"
    }
   },
   "source": [
    "## Outline\n",
    "\n",
    "1. [Theory of SSS](#theory)\n",
    "2. [Examples in low dimension.](#example)\n",
    "3. [The code: a simulation of secret sharing.](#code)"
   ]
  },
  {
   "cell_type": "code",
   "execution_count": 1,
   "id": "d8d3a83a",
   "metadata": {
    "slideshow": {
     "slide_type": "slide"
    }
   },
   "outputs": [],
   "source": [
    "import numpy as np"
   ]
  },
  {
   "cell_type": "markdown",
   "id": "2655dfeb",
   "metadata": {
    "slideshow": {
     "slide_type": "fragment"
    }
   },
   "source": [
    "$\\int$"
   ]
  }
 ],
 "metadata": {
  "celltoolbar": "Slideshow",
  "kernelspec": {
   "display_name": "Python 3",
   "language": "python",
   "name": "python3"
  },
  "language_info": {
   "codemirror_mode": {
    "name": "ipython",
    "version": 3
   },
   "file_extension": ".py",
   "mimetype": "text/x-python",
   "name": "python",
   "nbconvert_exporter": "python",
   "pygments_lexer": "ipython3",
   "version": "3.8.8"
  }
 },
 "nbformat": 4,
 "nbformat_minor": 5
}
